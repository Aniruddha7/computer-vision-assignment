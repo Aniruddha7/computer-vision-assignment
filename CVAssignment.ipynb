{
  "nbformat": 4,
  "nbformat_minor": 0,
  "metadata": {
    "colab": {
      "name": "CVAssignment.ipynb",
      "provenance": [],
      "collapsed_sections": []
    },
    "kernelspec": {
      "name": "python3",
      "display_name": "Python 3"
    },
    "accelerator": "GPU"
  },
  "cells": [
    {
      "cell_type": "code",
      "metadata": {
        "colab": {
          "base_uri": "https://localhost:8080/"
        },
        "id": "GZK6PQV6Giy9",
        "outputId": "e2632d85-965f-4ed1-bbff-0f005cc14d54"
      },
      "source": [
        "#Import training data and convert it to dataframe\r\n",
        "\r\n",
        "import io\r\n",
        "import pandas as pd\r\n",
        "import numpy as np\r\n",
        "import csv\r\n",
        "\r\n",
        "df= pd.DataFrame()\r\n",
        "df= pd.read_csv('/content/drive/MyDrive/CVAssignmentDataset.csv', encoding='utf-8')\r\n",
        "df =pd.DataFrame(df)\r\n",
        "#df =np.asarray(df)\r\n",
        "#df.shape\r\n",
        "print(df)"
      ],
      "execution_count": 2,
      "outputs": [
        {
          "output_type": "stream",
          "text": [
            "       Class                                               Text\n",
            "0        1.0  Today, Senate Dems vote to #SaveTheInternet. P...\n",
            "1        1.0  RT @WinterHavenSun: Winter Haven resident / Al...\n",
            "2        1.0  RT @NBCLatino: .@RepDarrenSoto noted that Hurr...\n",
            "3        1.0  RT @NALCABPolicy: Meeting with @RepDarrenSoto ...\n",
            "4        1.0  RT @Vegalteno: Hurricane season starts on June...\n",
            "...      ...                                                ...\n",
            "86456    0.0  Check out my op-ed on need for End Executive O...\n",
            "86457    0.0  Yesterday, Betty &amp; I had a great time lear...\n",
            "86458    0.0  We are forever grateful for the service and sa...\n",
            "86459    0.0  Happy first day of school @CobbSchools! #CobbB...\n",
            "86460    0.0  #Zika fears realized in Florida. House GOP act...\n",
            "\n",
            "[86461 rows x 2 columns]\n"
          ],
          "name": "stdout"
        }
      ]
    },
    {
      "cell_type": "code",
      "metadata": {
        "colab": {
          "base_uri": "https://localhost:8080/",
          "height": 394
        },
        "id": "rqTiMMXBH74S",
        "outputId": "a85c8bfc-0f65-4427-c6d5-a2ed39e7732e"
      },
      "source": [
        "#Check if data is imbalanced\r\n",
        "\r\n",
        "import matplotlib.pyplot as plt\r\n",
        "fig = plt.figure(figsize=(8,6))\r\n",
        "df.groupby('Class').Class.count().plot.bar(ylim=0)\r\n",
        "plt.show()"
      ],
      "execution_count": 3,
      "outputs": [
        {
          "output_type": "display_data",
          "data": {
            "image/png": "[encoded data removed]",
            "text/plain": [
              "<Figure size 576x432 with 1 Axes>"
            ]
          },
          "metadata": {
            "tags": [],
            "needs_background": "light"
          }
        }
      ]
    },
    {
      "cell_type": "code",
      "metadata": {
        "colab": {
          "base_uri": "https://localhost:8080/",
          "height": 453
        },
        "id": "dKWtLj3AV0Kw",
        "outputId": "fb6c2407-fc04-4d1c-f5f1-501661fc5783"
      },
      "source": [
        "#Remove stopwords and special charactes from the dataframe\r\n",
        "\r\n",
        "import nltk\r\n",
        "import codecs\r\n",
        "\r\n",
        "nltk.download(\"stopwords\")\r\n",
        "from nltk.corpus import stopwords  \r\n",
        "from nltk.tokenize import word_tokenize\r\n",
        "\r\n",
        "stop_words = set(stopwords.words('english'))\r\n",
        "df.columns= [\"Class\",\"Text\"]\r\n",
        "df['Text'] = df['Text'].apply(lambda x: ' '.join([word for word in str(x).split() if word not in (stop_words)]))\r\n",
        "df= pd.DataFrame(df)\r\n",
        "#co^a-zA-Z0-9… \r\n",
        "df= df.replace('[@_!#$%^&*()<>?/|}{~:;,.…]', '',regex=True)\r\n",
        "df\r\n",
        "#df= float(df)"
      ],
      "execution_count": 6,
      "outputs": [
        {
          "output_type": "stream",
          "text": [
            "[nltk_data] Downloading package stopwords to /root/nltk_data...\n",
            "[nltk_data]   Package stopwords is already up-to-date!\n"
          ],
          "name": "stdout"
        },
        {
          "output_type": "execute_result",
          "data": {
            "text/html": [
              "<div>\n",
              "<style scoped>\n",
              "    .dataframe tbody tr th:only-of-type {\n",
              "        vertical-align: middle;\n",
              "    }\n",
              "\n",
              "    .dataframe tbody tr th {\n",
              "        vertical-align: top;\n",
              "    }\n",
              "\n",
              "    .dataframe thead th {\n",
              "        text-align: right;\n",
              "    }\n",
              "</style>\n",
              "<table border=\"1\" class=\"dataframe\">\n",
              "  <thead>\n",
              "    <tr style=\"text-align: right;\">\n",
              "      <th></th>\n",
              "      <th>Class</th>\n",
              "      <th>Text</th>\n",
              "    </tr>\n",
              "  </thead>\n",
              "  <tbody>\n",
              "    <tr>\n",
              "      <th>0</th>\n",
              "      <td>1.0</td>\n",
              "      <td>Today Senate Dems vote SaveTheInternet Proud s...</td>\n",
              "    </tr>\n",
              "    <tr>\n",
              "      <th>1</th>\n",
              "      <td>1.0</td>\n",
              "      <td>RT WinterHavenSun Winter Haven resident Alta V...</td>\n",
              "    </tr>\n",
              "    <tr>\n",
              "      <th>2</th>\n",
              "      <td>1.0</td>\n",
              "      <td>RT NBCLatino RepDarrenSoto noted Hurricane Mar...</td>\n",
              "    </tr>\n",
              "    <tr>\n",
              "      <th>3</th>\n",
              "      <td>1.0</td>\n",
              "      <td>RT NALCABPolicy Meeting RepDarrenSoto Thanks t...</td>\n",
              "    </tr>\n",
              "    <tr>\n",
              "      <th>4</th>\n",
              "      <td>1.0</td>\n",
              "      <td>RT Vegalteno Hurricane season starts June 1st ...</td>\n",
              "    </tr>\n",
              "    <tr>\n",
              "      <th>...</th>\n",
              "      <td>...</td>\n",
              "      <td>...</td>\n",
              "    </tr>\n",
              "    <tr>\n",
              "      <th>86456</th>\n",
              "      <td>0.0</td>\n",
              "      <td>Check op-ed need End Executive Overreach Act T...</td>\n",
              "    </tr>\n",
              "    <tr>\n",
              "      <th>86457</th>\n",
              "      <td>0.0</td>\n",
              "      <td>Yesterday Betty amp I great time learning fore...</td>\n",
              "    </tr>\n",
              "    <tr>\n",
              "      <th>86458</th>\n",
              "      <td>0.0</td>\n",
              "      <td>We forever grateful service sacrifice Major Ba...</td>\n",
              "    </tr>\n",
              "    <tr>\n",
              "      <th>86459</th>\n",
              "      <td>0.0</td>\n",
              "      <td>Happy first day school CobbSchools CobbBackToS...</td>\n",
              "    </tr>\n",
              "    <tr>\n",
              "      <th>86460</th>\n",
              "      <td>0.0</td>\n",
              "      <td>Zika fears realized Florida House GOP acted pr...</td>\n",
              "    </tr>\n",
              "  </tbody>\n",
              "</table>\n",
              "<p>86461 rows × 2 columns</p>\n",
              "</div>"
            ],
            "text/plain": [
              "       Class                                               Text\n",
              "0        1.0  Today Senate Dems vote SaveTheInternet Proud s...\n",
              "1        1.0  RT WinterHavenSun Winter Haven resident Alta V...\n",
              "2        1.0  RT NBCLatino RepDarrenSoto noted Hurricane Mar...\n",
              "3        1.0  RT NALCABPolicy Meeting RepDarrenSoto Thanks t...\n",
              "4        1.0  RT Vegalteno Hurricane season starts June 1st ...\n",
              "...      ...                                                ...\n",
              "86456    0.0  Check op-ed need End Executive Overreach Act T...\n",
              "86457    0.0  Yesterday Betty amp I great time learning fore...\n",
              "86458    0.0  We forever grateful service sacrifice Major Ba...\n",
              "86459    0.0  Happy first day school CobbSchools CobbBackToS...\n",
              "86460    0.0  Zika fears realized Florida House GOP acted pr...\n",
              "\n",
              "[86461 rows x 2 columns]"
            ]
          },
          "metadata": {
            "tags": []
          },
          "execution_count": 6
        }
      ]
    },
    {
      "cell_type": "code",
      "metadata": {
        "colab": {
          "base_uri": "https://localhost:8080/"
        },
        "id": "1TcNDo0oEGC3",
        "outputId": "00f97ce3-1bac-4dec-d447-c3c2d1e03a79"
      },
      "source": [
        "#Set Max_word length and define train and validation data\r\n",
        "\r\n",
        "from keras.preprocessing.text import Tokenizer\r\n",
        "from keras.preprocessing.sequence import pad_sequences\r\n",
        "\r\n",
        "maxlen= 50\r\n",
        "training_samples= 8000\r\n",
        "validation_samples= 10000\r\n",
        "max_words= 10000\r\n",
        "\r\n",
        "tokenizer= Tokenizer(num_words=max_words)\r\n",
        "tokenizer.fit_on_texts(df['Text'])\r\n",
        "sequences= tokenizer.texts_to_sequences(df['Text'])\r\n",
        "word_index=tokenizer.word_index\r\n",
        "print('Found %s unique tokens'% len(word_index))\r\n",
        "\r\n",
        "data= pad_sequences(sequences, maxlen=maxlen)\r\n",
        "labels= np.asarray(df['Class'])\r\n",
        "print('Shape of data tensor', data.shape)\r\n",
        "print('Shape of label tensor', labels.shape)\r\n",
        "\r\n",
        "indices= np.arange(data.shape[0])\r\n",
        "np.random.shuffle(indices)\r\n",
        "data=data[indices]\r\n",
        "labels=labels[indices]\r\n",
        "\r\n",
        "x_train= data[:training_samples]\r\n",
        "y_train= labels[:training_samples]\r\n",
        "\r\n",
        "x_val= data[training_samples:training_samples+validation_samples]\r\n",
        "y_val= labels[training_samples: training_samples+validation_samples]"
      ],
      "execution_count": 7,
      "outputs": [
        {
          "output_type": "stream",
          "text": [
            "Found 135402 unique tokens\n",
            "Shape of data tensor (86461, 50)\n",
            "Shape of label tensor (86461,)\n"
          ],
          "name": "stdout"
        }
      ]
    },
    {
      "cell_type": "code",
      "metadata": {
        "colab": {
          "base_uri": "https://localhost:8080/"
        },
        "id": "RQCXmMiJOY-W",
        "outputId": "83da1616-693a-415e-fc22-2b43373aa56e"
      },
      "source": [
        "#Define the model architecture\r\n",
        "\r\n",
        "from keras.models import Sequential\r\n",
        "from keras.layers import Conv1D, MaxPooling1D, LSTM, Bidirectional\r\n",
        "from keras.layers import Embedding, Flatten, Dense, Activation, Dropout\r\n",
        "\r\n",
        "model = Sequential()\r\n",
        "model.add(Embedding(max_words, 32, input_length=50))\r\n",
        "model.add(Conv1D(32,1, activation='relu'))\r\n",
        "model.add(MaxPooling1D(pool_size=(2)))\r\n",
        "model.add(Bidirectional(LSTM(256, return_sequences=True)))\r\n",
        "model.add(Dropout(0.1))\r\n",
        "model.add(Bidirectional(LSTM(256)))\r\n",
        "model.add(Dropout(0.1))\r\n",
        "model.add(Dense(1024, activation='relu'))\r\n",
        "model.add(Dropout(0.1))\r\n",
        "model.add(Dense(512, activation='relu'))\r\n",
        "model.add(Dropout(0.1))\r\n",
        "model.add(Dense(1, activation='sigmoid'))\r\n",
        "#model.add(Embedding(max_words, embedding_dim))\r\n",
        "#model.add(Flatten())\r\n",
        "model.summary()"
      ],
      "execution_count": 8,
      "outputs": [
        {
          "output_type": "stream",
          "text": [
            "Model: \"sequential\"\n",
            "_________________________________________________________________\n",
            "Layer (type)                 Output Shape              Param #   \n",
            "=================================================================\n",
            "embedding (Embedding)        (None, 50, 32)            320000    \n",
            "_________________________________________________________________\n",
            "conv1d (Conv1D)              (None, 50, 32)            1056      \n",
            "_________________________________________________________________\n",
            "max_pooling1d (MaxPooling1D) (None, 25, 32)            0         \n",
            "_________________________________________________________________\n",
            "bidirectional (Bidirectional (None, 25, 512)           591872    \n",
            "_________________________________________________________________\n",
            "dropout (Dropout)            (None, 25, 512)           0         \n",
            "_________________________________________________________________\n",
            "bidirectional_1 (Bidirection (None, 512)               1574912   \n",
            "_________________________________________________________________\n",
            "dropout_1 (Dropout)          (None, 512)               0         \n",
            "_________________________________________________________________\n",
            "dense (Dense)                (None, 1024)              525312    \n",
            "_________________________________________________________________\n",
            "dropout_2 (Dropout)          (None, 1024)              0         \n",
            "_________________________________________________________________\n",
            "dense_1 (Dense)              (None, 512)               524800    \n",
            "_________________________________________________________________\n",
            "dropout_3 (Dropout)          (None, 512)               0         \n",
            "_________________________________________________________________\n",
            "dense_2 (Dense)              (None, 1)                 513       \n",
            "=================================================================\n",
            "Total params: 3,538,465\n",
            "Trainable params: 3,538,465\n",
            "Non-trainable params: 0\n",
            "_________________________________________________________________\n"
          ],
          "name": "stdout"
        }
      ]
    },
    {
      "cell_type": "code",
      "metadata": {
        "colab": {
          "base_uri": "https://localhost:8080/"
        },
        "id": "-QxmmhVNOgXv",
        "outputId": "495892ec-4184-4d95-b62f-b8e025a435aa"
      },
      "source": [
        "#Training the model\r\n",
        "\r\n",
        "model.compile(optimizer='rmsprop',\r\n",
        "              loss='binary_crossentropy',\r\n",
        "              metrics=['acc'])\r\n",
        "history = model.fit(x_train, y_train, epochs=10, batch_size=128, validation_data=(x_val, y_val))\r\n",
        "model.save_weights('pre_trained_glove_model.h5')"
      ],
      "execution_count": 9,
      "outputs": [
        {
          "output_type": "stream",
          "text": [
            "Epoch 1/10\n",
            "63/63 [==============================] - 16s 59ms/step - loss: 0.6978 - acc: 0.5124 - val_loss: 0.6183 - val_acc: 0.6663\n",
            "Epoch 2/10\n",
            "63/63 [==============================] - 2s 34ms/step - loss: 0.5206 - acc: 0.7546 - val_loss: 0.6043 - val_acc: 0.7046\n",
            "Epoch 3/10\n",
            "63/63 [==============================] - 2s 34ms/step - loss: 0.3820 - acc: 0.8349 - val_loss: 0.5552 - val_acc: 0.7172\n",
            "Epoch 4/10\n",
            "63/63 [==============================] - 2s 34ms/step - loss: 0.3002 - acc: 0.8741 - val_loss: 0.6027 - val_acc: 0.7179\n",
            "Epoch 5/10\n",
            "63/63 [==============================] - 2s 34ms/step - loss: 0.2273 - acc: 0.9091 - val_loss: 0.8164 - val_acc: 0.7008\n",
            "Epoch 6/10\n",
            "63/63 [==============================] - 2s 34ms/step - loss: 0.1763 - acc: 0.9253 - val_loss: 0.9350 - val_acc: 0.7177\n",
            "Epoch 7/10\n",
            "63/63 [==============================] - 2s 34ms/step - loss: 0.1121 - acc: 0.9579 - val_loss: 1.0211 - val_acc: 0.7130\n",
            "Epoch 8/10\n",
            "63/63 [==============================] - 2s 34ms/step - loss: 0.0836 - acc: 0.9697 - val_loss: 1.2790 - val_acc: 0.7135\n",
            "Epoch 9/10\n",
            "63/63 [==============================] - 2s 34ms/step - loss: 0.0597 - acc: 0.9784 - val_loss: 1.4229 - val_acc: 0.7119\n",
            "Epoch 10/10\n",
            "63/63 [==============================] - 2s 34ms/step - loss: 0.0357 - acc: 0.9885 - val_loss: 2.2277 - val_acc: 0.7135\n"
          ],
          "name": "stdout"
        }
      ]
    },
    {
      "cell_type": "code",
      "metadata": {
        "colab": {
          "base_uri": "https://localhost:8080/"
        },
        "id": "5YqtL2oYmZiy",
        "outputId": "015e7d1c-03f1-4459-9038-246345304792"
      },
      "source": [
        "model.evaluate(x_val, y_val)"
      ],
      "execution_count": 10,
      "outputs": [
        {
          "output_type": "stream",
          "text": [
            "313/313 [==============================] - 2s 6ms/step - loss: 2.2277 - acc: 0.7135\n"
          ],
          "name": "stdout"
        },
        {
          "output_type": "execute_result",
          "data": {
            "text/plain": [
              "[2.22770357131958, 0.7135000228881836]"
            ]
          },
          "metadata": {
            "tags": []
          },
          "execution_count": 10
        }
      ]
    },
    {
      "cell_type": "code",
      "metadata": {
        "colab": {
          "base_uri": "https://localhost:8080/",
          "height": 545
        },
        "id": "6tVLhCCTo4sU",
        "outputId": "adefe19a-8b36-4d3d-cf50-e31f04036015"
      },
      "source": [
        "#Plotting training and validation accuracy\r\n",
        "\r\n",
        "import matplotlib.pyplot as plt\r\n",
        "\r\n",
        "acc = history.history['acc']\r\n",
        "val_acc = history.history['val_acc']\r\n",
        "loss = history.history['loss']\r\n",
        "val_loss = history.history['val_loss']\r\n",
        "epochs = range(1, len(acc) + 1)\r\n",
        "plt.plot(epochs, acc, 'bo', label='Training acc')\r\n",
        "plt.plot(epochs, val_acc, 'b', label='Validation acc')\r\n",
        "plt.title('Training and validation accuracy')\r\n",
        "plt.legend()\r\n",
        "plt.figure()\r\n",
        "plt.plot(epochs, loss, 'bo', label='Training loss')\r\n",
        "plt.plot(epochs, val_loss, 'b', label='Validation loss')\r\n",
        "plt.title('Training and validation loss')\r\n",
        "plt.legend()\r\n",
        "plt.show()"
      ],
      "execution_count": 11,
      "outputs": [
        {
          "output_type": "display_data",
          "data": {
            "image/png": "[encoded data removed]",
            "text/plain": [
              "<Figure size 432x288 with 1 Axes>"
            ]
          },
          "metadata": {
            "tags": [],
            "needs_background": "light"
          }
        },
        {
          "output_type": "display_data",
          "data": {
            "image/png": "[encoded data removed]",
            "text/plain": [
              "<Figure size 432x288 with 1 Axes>"
            ]
          },
          "metadata": {
            "tags": [],
            "needs_background": "light"
          }
        }
      ]
    },
    {
      "cell_type": "code",
      "metadata": {
        "id": "k6-8UCQMK3AJ"
      },
      "source": [
        "#model.fit(x_train, y_train, validation_data=(x_val, y_val))\r\n",
        "y_pred = model.predict(x_val)"
      ],
      "execution_count": 12,
      "outputs": []
    },
    {
      "cell_type": "code",
      "metadata": {
        "colab": {
          "base_uri": "https://localhost:8080/",
          "height": 279
        },
        "id": "3pHBLB6qPjBq",
        "outputId": "0ce09c88-d07b-4e84-cb7d-4b9bd51a1b03"
      },
      "source": [
        "#Calculate confusion matrix and plotting\r\n",
        "\r\n",
        "from sklearn.metrics import confusion_matrix\r\n",
        "import seaborn as sns\r\n",
        "\r\n",
        "matrix = confusion_matrix(y_val, y_pred.round())\r\n",
        "#print(matrix)\r\n",
        "names = ['True Neg','False Pos','False Neg','True Pos']\r\n",
        "\r\n",
        "#Calculate percentage for each of the names\r\n",
        "percentage = [\"{0:.2%}\".format(value) for value in \r\n",
        "                     matrix.flatten()/np.sum(matrix)]\r\n",
        "\r\n",
        "labels = [f\"{v1}\\n{v2}\" for v1, v2 in\r\n",
        "          zip(names, percentage)]\r\n",
        "          \r\n",
        "labels = np.asarray(labels).reshape(2,2)\r\n",
        "\r\n",
        "sns.heatmap(matrix, annot=labels, \r\n",
        "            fmt='', cmap='Blues')\r\n",
        "plt.ylabel('Actual')\r\n",
        "plt.xlabel('Predicted')\r\n",
        "plt.show()"
      ],
      "execution_count": 13,
      "outputs": [
        {
          "output_type": "display_data",
          "data": {
            "image/png": "[encoded data removed]",
            "text/plain": [
              "<Figure size 432x288 with 2 Axes>"
            ]
          },
          "metadata": {
            "tags": [],
            "needs_background": "light"
          }
        }
      ]
    },
    {
      "cell_type": "code",
      "metadata": {
        "colab": {
          "base_uri": "https://localhost:8080/"
        },
        "id": "sqr35A7MfgMs",
        "outputId": "6a9ca59f-30f7-4593-bafa-50809f1d6875"
      },
      "source": [
        "#Calculate Matthew's correlation coefficient\r\n",
        "\r\n",
        "from sklearn.metrics import matthews_corrcoef\r\n",
        "cor_matrix= matthews_corrcoef(y_val, y_pred.round())\r\n",
        "print(cor_matrix)"
      ],
      "execution_count": 14,
      "outputs": [
        {
          "output_type": "stream",
          "text": [
            "0.4264464093219898\n"
          ],
          "name": "stdout"
        }
      ]
    }
  ]
}